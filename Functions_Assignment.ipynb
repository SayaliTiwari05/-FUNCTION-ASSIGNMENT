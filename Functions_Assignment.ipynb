{
  "nbformat": 4,
  "nbformat_minor": 0,
  "metadata": {
    "colab": {
      "provenance": []
    },
    "kernelspec": {
      "name": "python3",
      "display_name": "Python 3"
    },
    "language_info": {
      "name": "python"
    }
  },
  "cells": [
    {
      "cell_type": "markdown",
      "source": [
        "**1.What is the difference between a function and a method in Python?**\n",
        "\n",
        "Answer:\n",
        "\n",
        "In Python, a function is a block of reusable code that performs a specific task. It can be defined using the def keyword and can be called independently. Example:\n",
        "\n",
        "def greet():\n",
        "\n",
        "    print(\"Hello\")\n",
        "\n",
        "A method is similar to a function, but it is associated with an object and is called using the dot (.) operator. Methods are defined inside classes and work with the data stored in that object.\n",
        "\n",
        "Example:\n",
        "text = \"hello\"\n",
        "print(text.upper())  # upper() is a method of string\n",
        "\n",
        "\n",
        "A function stands alone.\n",
        "A method is tied to an object or class\n"
      ],
      "metadata": {
        "id": "2ezCuceYun62"
      }
    },
    {
      "cell_type": "markdown",
      "source": [
        "**2.Explain the concept of function arguments and parameters in Python.**\n",
        "\n",
        "\n",
        "Answer:\n",
        "\n",
        "In Python, parameters are the names we use in a function to accept values. They are like empty boxes waiting to hold data. We define them when we create the function.\n",
        "\n",
        "Arguments are the actual values we give to the function when we call it. These values fill the parameters so the function can work with real data.\n",
        "\n",
        "In simple terms, parameters are used during function definition, and arguments are used during function call. Both help in passing information into a function so it can perform its task."
      ],
      "metadata": {
        "id": "YlfYdmV-v37Y"
      }
    },
    {
      "cell_type": "markdown",
      "source": [
        "**Q3: What are the different ways to define and call a function in Python?**\n",
        "\n",
        "Answer:\n",
        "\n",
        "In Python, a function is defined using the def keyword followed by the function name and parentheses. Inside the parentheses, we can include parameters if needed. The function body contains the statements that define what the function does.\n",
        "\n",
        "There are different ways to define and call a function:\n",
        "\n",
        "1.Function without parameters- A function that does not take any values when called.\n",
        "\n",
        "2.Function with parameters-A function that accepts one or more values when called.\n",
        "\n",
        "3.Function with default parameters-A function where some parameters have default values, so the caller can skip them if needed.\n",
        "\n",
        "4.Function with return values-  A function that gives back a result using the `return` keyword.\n",
        "\n",
        "To call a function, we simply write its name followed by parentheses. If the function takes arguments, we provide them inside the parentheses.\n",
        "\n",
        "These different ways help make functions flexible and reusable in different situations.\n",
        "\n",
        "\n"
      ],
      "metadata": {
        "id": "13lnPbiOw9Xi"
      }
    },
    {
      "cell_type": "markdown",
      "source": [
        "**Q4: What is the purpose of the `return` statement in a Python function?**\n",
        "\n",
        "Answer:\n",
        "\n",
        "The return statement in a Python function is used to send a result back to the place where the function was called. It allows the function to give back a value after completing its task.\n",
        "\n",
        "Without a return statement, the function only performs an action but does not provide any result for further use. With return, we can store the output in a variable or use it in other operations.\n",
        "\n",
        "In simple words, the return statement helps the function to \"give an answer\" or \"send back a result\" to the caller.\n",
        "\n"
      ],
      "metadata": {
        "id": "elm1tKWjx9rO"
      }
    },
    {
      "cell_type": "markdown",
      "source": [
        "**Q5: What are iterators in Python and how do they differ from iterables?**\n",
        "\n",
        "Answer:\n",
        "In Python, an iterator is an object that allows us to go through a sequence of items, one at a time. It keeps track of where it is during the process, and we use the next()function to get the next item.\n",
        "\n",
        "An iterable is any object that can be looped over, like lists, tuples, or strings. But it does not remember the current position like an iterator does.\n",
        "\n",
        "The difference is:\n",
        "\n",
        "An iterable is a collection of items that we can loop through.\n",
        "An iterator is the tool that does the actual looping and gives one item at a time.\n",
        "\n",
        "We can turn an iterable into an iterator using the iter()function.\n",
        "\n"
      ],
      "metadata": {
        "id": "jS2KGwwHy_VH"
      }
    },
    {
      "cell_type": "markdown",
      "source": [
        "**Q6: Explain the concept of generators in Python and how they are defined.**\n",
        "\n",
        "Answer:\n",
        "In Python,generators are special functions that return values one at a time, instead of returning all values at once. They are used to create iterators in an easy and memory-efficient way.\n",
        "\n",
        "Generators are defined like normal functions, but instead of using the return statement, they use the yield keyword. Each time the function is called, it gives the next value and pauses its state, so it can continue from where it left off.\n",
        "\n",
        "Generators are useful when working with large amounts of data because they do not store all values in memory at once.\n",
        "\n"
      ],
      "metadata": {
        "id": "5LKzEkvKz6qp"
      }
    },
    {
      "cell_type": "markdown",
      "source": [
        "**Q7: What are the advantages of using generators over regular functions?**\n",
        "\n",
        "Answer:\n",
        "\n",
        "Generators have several advantages over regular functions, especially when working with large amounts of data:\n",
        "\n",
        "1.Memory Efficient: Generators do not store all values in memory. They generate values one at a time, which saves memory.\n",
        "\n",
        "2.Faster for Large Data: Since they produce values as needed, they are faster and more efficient when handling large data sets.\n",
        "\n",
        "3.Simpler Code: Generators make code cleaner and easier to read by using the yield keyword instead of managing loops and temporary lists.\n",
        "\n",
        "4.Maintain State Automatically: Generators remember their last position automatically, so we don't have to keep track of it manually.\n"
      ],
      "metadata": {
        "id": "vjU5l91s21u-"
      }
    },
    {
      "cell_type": "markdown",
      "source": [
        "**Q8: What is a lambda function in Python and when is it typically used?**\n",
        "\n",
        "Answer:\n",
        "A lambda function in Python is a small, anonymous function that is defined using the lambda keyword. It can have any number of inputs but only one expression, which it returns automatically.\n",
        "\n",
        "Lambda functions are typically used when we need a simple function for a short period of time, especially in situations like sorting, filtering, or working with built-in functions such as map(),filter(), or sorted().\n",
        "\n",
        "They are useful when we don't want to define a full function using def for a small task.\n",
        "\n"
      ],
      "metadata": {
        "id": "eZOeo5cX4Kub"
      }
    },
    {
      "cell_type": "markdown",
      "source": [
        "**Q9: Explain the purpose and usage of the map() function in Python.**\n",
        "\n",
        "Answer:\n",
        "The map() function in Python is used to apply the same function to every item in a list (or other sequence). It helps us write cleaner and shorter code, instead of using a loop.\n",
        "\n",
        "We give two things to map():\n",
        "\n",
        "1.A function (like lambd or a normal function)\n",
        "\n",
        "2.A list or other iterable\n",
        "\n",
        "It gives us a new result for each item.\n",
        "\n",
        "Example:\n",
        "\n",
        "numbers = [1, 2, 3, 4]\n",
        "result = list(map(lambda x: x * 2, numbers))\n",
        "\n",
        "print(result)\n",
        "\n",
        "Output:\n",
        "[2, 4, 6, 8]\n",
        "\n",
        "Here, the lambda function doubles each number in the list using map().\n",
        "\n"
      ],
      "metadata": {
        "id": "X6Li5d756dfc"
      }
    },
    {
      "cell_type": "markdown",
      "source": [
        "**10.What is the difference between map(), reduce(), and filter() functions in Python?**\n",
        "\n",
        "Answer:\n",
        "\n",
        "The map() function in Python is used to apply a specific function to every item in a sequence (like a list or tuple). It returns a new map object with the results.\n",
        "\n",
        "The purpose of map() is to simplify looping when we want to perform the same operation on each element of a collection.\n",
        "\n",
        "It takes two main arguments:\n",
        "\n",
        "A function (can be normal or lambda)\n",
        "\n",
        "An iterable (like a list)\n",
        "\n",
        "We usually convert the result of map() into a list to see the output.\n",
        "\n",
        "Example use case: If we want to double every number in a list, map() helps us do it without writing a loop.\n",
        "\n",
        "numbers = [1, 2, 3, 4]\n",
        "result = list(map(lambda x: x * 2, numbers))\n",
        "print(result)\n",
        "\n",
        "output=[2, 4, 6, 8]\n",
        "Here, the lambda function doubles each number in the list using map().\n",
        "\n",
        "The map() function in Python is used to apply the same function to every item in a list or other sequence. It helps us write cleaner and shorter code, instead of using a loop."
      ],
      "metadata": {
        "id": "i1B0woWv9G56"
      }
    },
    {
      "cell_type": "markdown",
      "source": [
        "**Q11: Internal mechanism of `reduce()` function for sum operation on \\[47, 11, 42, 13]**\n",
        "\n",
        "We can use the reduce() function from the `functools` module:\n",
        "\n",
        "from functools import reduce\n",
        "reduce(lambda x, y: x + y, [47, 11, 42, 13])\n",
        "\n",
        "Step-by-step Execution:\n",
        "\n",
        "1.Start with the first two elements:\n",
        "   47 + 11 = 58\n",
        "\n",
        "2.Take the result and add the next element:\n",
        "   58 + 42 = 100\n",
        "\n",
        "3.Take the new result and add the next element:\n",
        "   100 + 13 = 113\n",
        "\n",
        "Final Result is:113\n",
        "\n",
        "internal process looks like:\n",
        "\n",
        "Step 1: 47 + 11 = 58  \n",
        "Step 2: 58 + 42 = 100  \n",
        "Step 3: 100 + 13 = 113  \n",
        "\n",
        "\n",
        "Answer: The final sum is 113.\n",
        "\n"
      ],
      "metadata": {
        "id": "BQ15jj-8-auh"
      }
    },
    {
      "cell_type": "code",
      "source": [
        "#1.Write a Python function that takes a list of numbers as input and returns the\n",
        "#sum of all even numbers in the list.\n",
        "\n",
        "def sum_even(numbers):\n",
        "    total = 0\n",
        "    for n in numbers:\n",
        "        if n % 2 == 0:\n",
        "            total = total + n\n",
        "    return total\n",
        "nums = [1, 2, 3, 4, 5, 6]\n",
        "print(\"Sum of even numbers:\", sum_even(nums))\n"
      ],
      "metadata": {
        "colab": {
          "base_uri": "https://localhost:8080/"
        },
        "id": "dlYr8anjAWh3",
        "outputId": "0cbc60a5-adf3-4143-be86-c0ca87b10377"
      },
      "execution_count": null,
      "outputs": [
        {
          "output_type": "stream",
          "name": "stdout",
          "text": [
            "Sum of even numbers: 12\n"
          ]
        }
      ]
    },
    {
      "cell_type": "code",
      "source": [
        "#2.Create a Python function that accepts a string and returns the reverse of that string.\n",
        "\n",
        "def reverse_string(name):\n",
        "    return name[::-1]\n",
        "\n",
        "my_name = \"hello\"\n",
        "print(\"Reversed string:\", reverse_string(my_name))\n"
      ],
      "metadata": {
        "colab": {
          "base_uri": "https://localhost:8080/"
        },
        "id": "rh3QNUYTAWjB",
        "outputId": "c2e33446-ec30-47d1-85e4-4973b3f648d1"
      },
      "execution_count": null,
      "outputs": [
        {
          "output_type": "stream",
          "name": "stdout",
          "text": [
            "Reversed string: olleh\n"
          ]
        }
      ]
    },
    {
      "cell_type": "code",
      "source": [
        "#3.Implement a Python function that takes a list of integers and returns\n",
        "#a new list containing the squares of each number.\n",
        "\n",
        "def square_list(numbers):\n",
        "    squares = []\n",
        "    for num in numbers:\n",
        "        squares.append(num * num)\n",
        "    return squares\n",
        "\n",
        "nums = [1, 2, 3, 4, 5]\n",
        "print(\"Squares:\", square_list(nums))\n"
      ],
      "metadata": {
        "colab": {
          "base_uri": "https://localhost:8080/"
        },
        "id": "WF0glEGEAWnn",
        "outputId": "9c81b862-0727-4a87-ffaa-7e2f8ff19067"
      },
      "execution_count": null,
      "outputs": [
        {
          "output_type": "stream",
          "name": "stdout",
          "text": [
            "Squares: [1, 4, 9, 16, 25]\n"
          ]
        }
      ]
    },
    {
      "cell_type": "code",
      "source": [
        "#4.Write a Python function that checks if a given number is prime or not from 1 to 200.\n",
        "\n",
        "num = int(input(\"Enter a number between 1 and 200: \"))\n",
        "\n",
        "if num < 2:\n",
        "    print(num, \"is not a prime number.\")\n",
        "else:\n",
        "    is_prime = True\n",
        "    for i in range(2, num):\n",
        "        if num % i == 0:\n",
        "            is_prime = False\n",
        "            break\n",
        "\n",
        "    if is_prime:\n",
        "        print(num, \"is a prime number.\")\n",
        "    else:\n",
        "        print(num, \"is not a prime number.\")\n"
      ],
      "metadata": {
        "colab": {
          "base_uri": "https://localhost:8080/"
        },
        "id": "Up94HgJiAWo4",
        "outputId": "d6e15352-c262-4cc6-e803-58b83c1b6a5c"
      },
      "execution_count": null,
      "outputs": [
        {
          "output_type": "stream",
          "name": "stdout",
          "text": [
            "Enter a number between 1 and 200: 17\n",
            "17 is a prime number.\n"
          ]
        }
      ]
    },
    {
      "cell_type": "code",
      "source": [
        "#5.Create an iterator class in Python that generates the Fibonacci sequence up\n",
        "# to a specified number of terms.\n",
        "\n",
        "class Fibonacci:\n",
        "    def __init__(self, n):\n",
        "        self.n = n      # total number of terms\n",
        "        self.a = 0      # first number\n",
        "        self.b = 1      # second number\n",
        "        self.count = 0  # counter to track\n",
        "\n",
        "    def __iter__(self):\n",
        "        return self\n",
        "\n",
        "    def __next__(self):\n",
        "        if self.count >= self.n:\n",
        "            raise StopIteration  # it will stop when n terms are done\n",
        "\n",
        "        if self.count == 0:\n",
        "            self.count += 1\n",
        "            return self.a\n",
        "        elif self.count == 1:\n",
        "            self.count += 1\n",
        "            return self.b\n",
        "        else:\n",
        "            next_number = self.a + self.b\n",
        "            self.a = self.b\n",
        "            self.b = next_number\n",
        "            self.count += 1\n",
        "            return next_number\n"
      ],
      "metadata": {
        "id": "pjXLkUnZAWtW"
      },
      "execution_count": 2,
      "outputs": []
    },
    {
      "cell_type": "code",
      "source": [
        "#6.Write a generator function in Python that yields the powers of 2 up to a given exponent.\n",
        "\n",
        "def powers_of_two(n):\n",
        "    for i in range(n + 1):\n",
        "        yield 2 ** i\n",
        "\n",
        "n = int(input(\"Enter a number: \"))\n",
        "\n",
        "for num in powers_of_two(n):\n",
        "    print(num)\n"
      ],
      "metadata": {
        "id": "uglymGXFAWux",
        "colab": {
          "base_uri": "https://localhost:8080/"
        },
        "outputId": "5d44392b-8e00-411d-ff32-bebca3068bd3"
      },
      "execution_count": 1,
      "outputs": [
        {
          "output_type": "stream",
          "name": "stdout",
          "text": [
            "Enter a number: 5\n",
            "1\n",
            "2\n",
            "4\n",
            "8\n",
            "16\n",
            "32\n"
          ]
        }
      ]
    },
    {
      "cell_type": "code",
      "source": [
        "#7.Implement a generator function that reads a file line by line and yields each line as a string.\n",
        "\n",
        "def read_lines_from_list(lines):\n",
        "    for line in lines:\n",
        "        yield line.strip()\n",
        "data = [\n",
        "    \"Hello, this is line 1\\n\",\n",
        "    \"This is line 2\\n\",\n",
        "    \"And this is line 3\\n\"\n",
        "]\n",
        "\n",
        "for line in read_lines_from_list(data):\n",
        "    print(line)\n"
      ],
      "metadata": {
        "id": "LgxAipj5AWyv",
        "colab": {
          "base_uri": "https://localhost:8080/"
        },
        "outputId": "d9facb95-ec0e-4abb-85d0-3cc731bb06ac"
      },
      "execution_count": 5,
      "outputs": [
        {
          "output_type": "stream",
          "name": "stdout",
          "text": [
            "Hello, this is line 1\n",
            "This is line 2\n",
            "And this is line 3\n"
          ]
        }
      ]
    },
    {
      "cell_type": "code",
      "source": [
        "#8.Use a lambda function in Python to sort a list of tuples based on the second element of each tuple.\n",
        "# List of tuples\n",
        "data = [(1, 5), (3, 2), (4, 8), (2, 1)]\n",
        "\n",
        "# Sort using lambda function (by second element of each tuple)\n",
        "sorted_data = sorted(data, key=lambda x: x[1])\n",
        "\n",
        "print(sorted_data)\n"
      ],
      "metadata": {
        "id": "23TE93ZTAW0L",
        "colab": {
          "base_uri": "https://localhost:8080/"
        },
        "outputId": "86d44999-f567-474b-c138-62a7532adc11"
      },
      "execution_count": 6,
      "outputs": [
        {
          "output_type": "stream",
          "name": "stdout",
          "text": [
            "[(2, 1), (3, 2), (1, 5), (4, 8)]\n"
          ]
        }
      ]
    },
    {
      "cell_type": "code",
      "source": [
        "#9.Write a Python program that uses `map()` to convert a list of temperatures from Celsius to Fahrenheit.\n",
        "\n",
        "celsius_temperatures = [0, 10, 20, 30, 40]\n",
        "\n",
        "fahrenheit_temperatures = list(map(lambda c: (c * 9/5) + 32, celsius_temperatures))\n",
        "\n",
        "print(\"Celsius Temperatures:\", celsius_temperatures)\n",
        "print(\"Fahrenheit Temperatures:\", fahrenheit_temperatures)\n"
      ],
      "metadata": {
        "id": "VnJ508yIAW4W",
        "colab": {
          "base_uri": "https://localhost:8080/"
        },
        "outputId": "537d03de-0c3a-4a55-de81-b7f6baf31117"
      },
      "execution_count": 8,
      "outputs": [
        {
          "output_type": "stream",
          "name": "stdout",
          "text": [
            "Celsius Temperatures: [0, 10, 20, 30, 40]\n",
            "Fahrenheit Temperatures: [32.0, 50.0, 68.0, 86.0, 104.0]\n"
          ]
        }
      ]
    },
    {
      "cell_type": "code",
      "source": [
        "#10.Create a Python program that uses `filter()` to remove all the vowels from a given string\n",
        "\n",
        "def remove_vowels(string):\n",
        "    vowels = \"aeiouAEIOU\"\n",
        "    filtered_string = \"\"\n",
        "    for char in string:\n",
        "        if char not in vowels:\n",
        "            filtered_string += char\n",
        "    return filtered_string\n",
        "\n",
        "input_string = \"Hello, World!\"\n",
        "result = remove_vowels(input_string)\n",
        "print(result)"
      ],
      "metadata": {
        "colab": {
          "base_uri": "https://localhost:8080/"
        },
        "id": "_EU57-BYmJ-t",
        "outputId": "f83d8f71-2e53-4db6-f010-43d5af095c27"
      },
      "execution_count": 10,
      "outputs": [
        {
          "output_type": "stream",
          "name": "stdout",
          "text": [
            "Hll, Wrld!\n"
          ]
        }
      ]
    },
    {
      "cell_type": "code",
      "source": [
        "##11) Imagine an accounting routine used in a book shop. It works on a list with sublists, which look like this:\n",
        "\n",
        "#Order Number     Book Title and Author                     Quantity    Price per Item\n",
        "#34587            Learning Python, Mark Lutz                4           40.95\n",
        "#98762            Programming Python, Mark Lutz             5           56.80\n",
        "#77226            Head First Python, Paul Barry             3           32.95\n",
        "#88112            Einführung in Python3, Bernd Klein        3           24.99\n",
        "#Write a Python program that returns a list with 2-tuples. Each tuple consists of the order number and the product of the price per item and the quantity.\n",
        "#The product should be increased by 10.00 € if the value of the order is smaller than 100.00 €.#'''\n",
        "\n",
        "\n",
        "\n",
        "# List of book orders\n",
        "orders = [\n",
        "    [34587, \"Learning Python, Mark Lutz\", 4, 40.95],\n",
        "    [98762, \"Programming Python, Mark Lutz\", 5, 56.80],\n",
        "    [77226, \"Head First Python, Paul Barry\", 3, 32.95],\n",
        "    [88112, \"Einführung in Python3, Bernd Klein\", 3, 24.99]\n",
        "]\n",
        "\n",
        "# Using map and lambda to calculate total cost with condition\n",
        "result = list(map(\n",
        "    lambda x: (x[0], x[2] * x[3] if x[2] * x[3] >= 100 else x[2] * x[3] + 10),\n",
        "    orders\n",
        "))\n",
        "\n",
        "# Print the final result\n",
        "print(result)\n"
      ],
      "metadata": {
        "id": "qLLrZY7uAW5p",
        "colab": {
          "base_uri": "https://localhost:8080/"
        },
        "outputId": "67bc31b2-7641-4373-99dc-2556c2302ee8"
      },
      "execution_count": 11,
      "outputs": [
        {
          "output_type": "stream",
          "name": "stdout",
          "text": [
            "[(34587, 163.8), (98762, 284.0), (77226, 108.85000000000001), (88112, 84.97)]\n"
          ]
        }
      ]
    }
  ]
}